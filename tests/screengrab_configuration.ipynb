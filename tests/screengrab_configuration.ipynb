{
 "cells": [
  {
   "cell_type": "code",
   "execution_count": 6,
   "outputs": [
    {
     "name": "stdout",
     "output_type": "stream",
     "text": [
      "Collecting keyboard\n",
      "  Downloading keyboard-0.13.5-py3-none-any.whl (58 kB)\n",
      "     ---------------------------------------- 0.0/58.1 kB ? eta -:--:--\n",
      "     ---------------------------------------- 58.1/58.1 kB 1.5 MB/s eta 0:00:00\n",
      "Installing collected packages: keyboard\n",
      "Successfully installed keyboard-0.13.5\n"
     ]
    }
   ],
   "source": [
    "!pip install keyboard"
   ],
   "metadata": {
    "collapsed": false
   }
  },
  {
   "cell_type": "code",
   "execution_count": 1,
   "outputs": [],
   "source": [
    "# For fast screencapture\n",
    "from mss import mss\n",
    "# For retrieving image information and preprocessing\n",
    "from PIL import Image\n",
    "# For Image display and preprocessing\n",
    "import cv2\n",
    "# For handling file paths\n",
    "import os\n",
    "# For ability to run script while other applications are running\n",
    "import keyboard\n",
    "# For mathematical handling of images\n",
    "import numpy"
   ],
   "metadata": {
    "collapsed": false
   }
  },
  {
   "cell_type": "markdown",
   "source": [
    "# Collect Images\n",
    "\n",
    "This code will run an instance in which we can collect screenshots on a button press. I will collect two images, which should display all desired information.\n",
    "\n",
    "### Boss Damaged Image\n",
    "\n",
    "Boss start can be gathered from the appearance of boss health bar(s). Damage to boss (and reward calculation) can be determined by observing the displayed damage values to the boss. Equipment information can be observed in the lower left corner. The desired screen grab for the AI's CNN can be found where none of this information is displayed.\n",
    "\n",
    "### Boss Defeated Image\n",
    "\n",
    "From here we can capture the text that is displayed when a boss is defeated."
   ],
   "metadata": {
    "collapsed": false
   }
  },
  {
   "cell_type": "code",
   "execution_count": null,
   "outputs": [],
   "source": [
    "screenshots = []\n",
    "capture_key_press_active = True\n",
    "# While this is running, press 'p' to capture screenshot and add to 'screenshots' list\n",
    "# Press 'm' to end this loop\n",
    "while capture_key_press_active:\n",
    "    if keyboard.read_key('p'):\n",
    "        screenshots.append(mss().shot())\n",
    "    elif keyboard.read_key('m'):\n",
    "        capture_key_press_active = False"
   ],
   "metadata": {
    "collapsed": false
   }
  },
  {
   "cell_type": "code",
   "execution_count": null,
   "outputs": [],
   "source": [
    "# Returns game screen dimensions\n",
    "img = Image.open(screenshots[0])\n",
    "print(img.size)"
   ],
   "metadata": {
    "collapsed": false
   }
  },
  {
   "cell_type": "code",
   "execution_count": null,
   "outputs": [],
   "source": [
    "screenshots"
   ],
   "metadata": {
    "collapsed": false
   }
  },
  {
   "cell_type": "code",
   "execution_count": null,
   "outputs": [],
   "source": [
    "BOSS_DAMAGED_PATH = os.path.join('/screengrab_configuration_images','').replace('\\\\', '/')\n",
    "BOSS_DEFEATED_PATH = os.path.join('/screengrab_configuration_images','').replace('\\\\', '/')"
   ],
   "metadata": {
    "collapsed": false
   }
  },
  {
   "cell_type": "code",
   "execution_count": null,
   "outputs": [],
   "source": [
    "boss_hit_image = open(BOSS_DAMAGED_PATH)\n",
    "boss_end_image = open(BOSS_DEFEATED_PATH)"
   ],
   "metadata": {
    "collapsed": false
   }
  },
  {
   "cell_type": "code",
   "execution_count": null,
   "outputs": [],
   "source": [],
   "metadata": {
    "collapsed": false
   }
  },
  {
   "cell_type": "code",
   "execution_count": null,
   "outputs": [],
   "source": [],
   "metadata": {
    "collapsed": false
   }
  },
  {
   "cell_type": "code",
   "execution_count": null,
   "outputs": [],
   "source": [],
   "metadata": {
    "collapsed": false
   }
  },
  {
   "cell_type": "code",
   "execution_count": null,
   "outputs": [],
   "source": [],
   "metadata": {
    "collapsed": false
   }
  },
  {
   "cell_type": "code",
   "execution_count": null,
   "outputs": [],
   "source": [],
   "metadata": {
    "collapsed": false
   }
  }
 ],
 "metadata": {
  "kernelspec": {
   "display_name": "Python 3",
   "language": "python",
   "name": "python3"
  },
  "language_info": {
   "codemirror_mode": {
    "name": "ipython",
    "version": 2
   },
   "file_extension": ".py",
   "mimetype": "text/x-python",
   "name": "python",
   "nbconvert_exporter": "python",
   "pygments_lexer": "ipython2",
   "version": "2.7.6"
  }
 },
 "nbformat": 4,
 "nbformat_minor": 0
}
